{
 "cells": [
  {
   "cell_type": "code",
   "execution_count": 212,
   "id": "6cc118af",
   "metadata": {},
   "outputs": [],
   "source": [
    "import pandas as pd\n",
    "import numpy as np\n",
    "\n"
   ]
  },
  {
   "cell_type": "code",
   "execution_count": 213,
   "id": "4250f2ee",
   "metadata": {},
   "outputs": [],
   "source": [
    "import matplotlib.pyplot as plt\n",
    "from sklearn.linear_model import SGDRegressor, LinearRegression\n",
    "from sklearn.model_selection import train_test_split\n",
    "from sklearn.metrics import mean_squared_error\n",
    "import seaborn as sns\n",
    "from sklearn.metrics import confusion_matrix, ConfusionMatrixDisplay\n",
    "from sklearn.pipeline import Pipeline\n",
    "from sklearn.preprocessing import StandardScaler, PolynomialFeatures\n",
    "from sklearn.inspection import permutation_importance\n"
   ]
  },
  {
   "cell_type": "raw",
   "id": "6eb46270",
   "metadata": {},
   "source": [
    "## Extra imports I may use or try\n",
    "from sklearn.preprocessing import OneHotEncoder, OrdinalEncoder\n",
    "from sklearn.neighbors import KNeighborsClassifier\n",
    "from sklearn.linear_model import LogisticRegression\n",
    "from sklearn import svm\n",
    "from sklearn.tree import DecisionTreeClassifier\n",
    "from sklearn.preprocessing import StandardScaler, PolynomialFeatures\n",
    "\n",
    "from sklearn import tree\n",
    "from sklearn.model_selection import GridSearchCV\n",
    "from sklearn import metrics \n",
    "\n",
    "from sklearn.metrics import classification_report\n",
    "from sklearn.metrics import roc_auc_score\n",
    "from sklearn.decomposition import PCA\n",
    "import time\n",
    "from sklearn.inspection import permutation_importance\n",
    "from sklearn.feature_selection import RFE\n",
    "#import warnings\n",
    "#warnings.filterwarnings(\"ignore\")"
   ]
  },
  {
   "cell_type": "markdown",
   "id": "7722fd1e",
   "metadata": {},
   "source": [
    "#Program overview\n",
    "This program predict the number of students that will be in AUT-052-5006 based on the number of students in AUT classes from the previous semester. AUT-052 was just a random class for auto majors in the 2nd semester. \n",
    "There is still a lot of automation to be done as this program moves to predicting all of the class in the 2nd semester instead of just one.\n",
    "\n",
    "Conclusion: The PolynomialFeatures, LinearRegression, Pipeline using permutation importance can acuratly predict the students in AUT-052 based on the prevois semester students. It will be of great interest to see if this model can accurately predict the remain 2nd semester classes as well. "
   ]
  },
  {
   "cell_type": "code",
   "execution_count": 214,
   "id": "544fd53d",
   "metadata": {},
   "outputs": [],
   "source": [
    "# read each sheet of the excel file\n",
    "FA2017 = pd.read_excel('Data/Technology Student Counts.xlsx', sheet_name ='2017FA')\n",
    "SP2017 = pd.read_excel('Data/Technology Student Counts.xlsx', sheet_name ='2017SP')\n",
    "FA2018 = pd.read_excel('Data/Technology Student Counts.xlsx', sheet_name ='2018FA')\n",
    "SP2018 = pd.read_excel('Data/Technology Student Counts.xlsx', sheet_name ='2018SP')\n",
    "FA2019 = pd.read_excel('Data/Technology Student Counts.xlsx', sheet_name ='2019FA')\n",
    "SP2019 = pd.read_excel('Data/Technology Student Counts.xlsx', sheet_name ='2019SP')\n",
    "FA2020 = pd.read_excel('Data/Technology Student Counts.xlsx', sheet_name ='2020FA')\n",
    "SP2020 = pd.read_excel('Data/Technology Student Counts.xlsx', sheet_name ='2020SP')\n",
    "FA2021 = pd.read_excel('Data/Technology Student Counts.xlsx', sheet_name ='2021FA')\n",
    "SP2021 = pd.read_excel('Data/Technology Student Counts.xlsx', sheet_name ='2021SP')\n",
    "FA2022 = pd.read_excel('Data/Technology Student Counts.xlsx', sheet_name ='2021FA')\n",
    "SP2022 = pd.read_excel('Data/Technology Student Counts.xlsx', sheet_name ='2021SP')\n"
   ]
  },
  {
   "cell_type": "code",
   "execution_count": 215,
   "id": "67aae40b",
   "metadata": {},
   "outputs": [],
   "source": [
    "#Lots of space padded data. Sometimes before, sometimes after.\n",
    "#Get rid of EXCO, EXCL, and stdcnt blank data rows \n",
    "\n",
    "values = ['EXCO        ', 'EXCL        ', '       ']\n",
    "FA2017 = FA2017[FA2017['Location    '].isin(values) == False]\n",
    "FA2017 = FA2017[FA2017['  StdCnt'].isin(values) == False]\n",
    "FA2018 = FA2018[FA2018['Location    '].isin(values) == False]\n",
    "FA2018 = FA2018[FA2018['  StdCnt'].isin(values) == False]\n",
    "FA2019 = FA2019[FA2019['Location    '].isin(values) == False]\n",
    "FA2019 = FA2019[FA2019['  StdCnt'].isin(values) == False]\n",
    "FA2020 = FA2020[FA2020['Location    '].isin(values) == False]\n",
    "FA2020 = FA2020[FA2020['  StdCnt'].isin(values) == False]\n",
    "FA2021 = FA2021[FA2021['Location    '].isin(values) == False]\n",
    "FA2021 = FA2021[FA2021['  StdCnt'].isin(values) == False]\n",
    "FA2022 = FA2021[FA2022['Location    '].isin(values) == False]\n",
    "FA2022 = FA2021[FA2022['  StdCnt'].isin(values) == False]"
   ]
  },
  {
   "cell_type": "code",
   "execution_count": 216,
   "id": "184f0552",
   "metadata": {},
   "outputs": [],
   "source": [
    "\n",
    "SP2017 = SP2017[SP2017['Location    '].isin(values) == False]\n",
    "SP2017 = SP2017[SP2017['  StdCnt'].isin(values) == False]\n",
    "SP2018 = SP2018[SP2018['Location    '].isin(values) == False]\n",
    "SP2018 = SP2018[SP2018['  StdCnt'].isin(values) == False]\n",
    "SP2019 = SP2019[SP2019['Location    '].isin(values) == False]\n",
    "SP2019 = SP2019[SP2019['  StdCnt'].isin(values) == False]\n",
    "SP2020 = SP2020[SP2020['Location    '].isin(values) == False]\n",
    "SP2020 = SP2020[SP2020['  StdCnt'].isin(values) == False]\n",
    "SP2021 = SP2021[SP2021['Location    '].isin(values) == False]\n",
    "SP2021 = SP2021[SP2021['  StdCnt'].isin(values) == False]\n",
    "SP2022 = SP2021[SP2022['Location    '].isin(values) == False]\n",
    "SP2022 = SP2021[SP2022['  StdCnt'].isin(values) == False]\n"
   ]
  },
  {
   "cell_type": "code",
   "execution_count": null,
   "id": "e4da2c11",
   "metadata": {},
   "outputs": [],
   "source": []
  },
  {
   "cell_type": "code",
   "execution_count": 217,
   "id": "c4e5f56f",
   "metadata": {},
   "outputs": [],
   "source": [
    "#Keep only the columns I need and reindex: d=drop \n",
    "FA2017d = FA2017.drop(['Location    ', 'CrseTypes   ','Depts ', '  Capacity'], axis=1).set_index('Section Name')\n",
    "SP2017d = SP2017.drop(['Location    ', 'CrseTypes   ','Depts ', '  Capacity'], axis=1).set_index('Section Name')\n",
    "FA2018d = FA2018.drop(['Location    ', 'CrseTypes   ','Depts ', '  Capacity'], axis=1).set_index('Section Name')\n",
    "SP2018d = SP2018.drop(['Location    ', 'CrseTypes   ','Depts ', '  Capacity'], axis=1).set_index('Section Name')\n",
    "FA2019d = FA2019.drop(['Location    ', 'CrseTypes   ','Depts ', '  Capacity'], axis=1).set_index('Section Name')\n",
    "SP2019d = SP2019.drop(['Location    ', 'CrseTypes   ','Depts ', '  Capacity'], axis=1).set_index('Section Name')\n",
    "FA2020d = FA2020.drop(['Location    ', 'CrseTypes   ','Depts ', '  Capacity'], axis=1).set_index('Section Name')\n",
    "SP2020d = SP2020.drop(['Location    ', 'CrseTypes   ','Depts ', '  Capacity'], axis=1).set_index('Section Name')\n",
    "FA2021d = FA2021.drop(['Location    ', 'CrseTypes   ','Depts ', '  Capacity'], axis=1).set_index('Section Name')\n",
    "SP2021d = SP2021.drop(['Location    ', 'CrseTypes   ','Depts ', '  Capacity'], axis=1).set_index('Section Name')\n",
    "FA2022d = FA2021.drop(['Location    ', 'CrseTypes   ','Depts ', '  Capacity'], axis=1).set_index('Section Name')\n",
    "SP2022d = SP2021.drop(['Location    ', 'CrseTypes   ','Depts ', '  Capacity'], axis=1).set_index('Section Name')\n"
   ]
  },
  {
   "cell_type": "code",
   "execution_count": 218,
   "id": "544a8de0",
   "metadata": {},
   "outputs": [],
   "source": [
    "#convert stdcnt to integer \n",
    "#had to convert to string first (I forgot why) and then to int.\n",
    "FA2017d = FA2017d['  StdCnt'].astype(str).astype(int)\n",
    "SP2017d = SP2017d['  StdCnt'].astype(str).astype(int)\n",
    "FA2018d = FA2018d['  StdCnt'].astype(str).astype(int)\n",
    "SP2018d = SP2018d['  StdCnt'].astype(str).astype(int)\n",
    "FA2019d = FA2019d['  StdCnt'].astype(str).astype(int)\n",
    "SP2019d = SP2019d['  StdCnt'].astype(str).astype(int)\n",
    "FA2020d = FA2020d['  StdCnt'].astype(str).astype(int)\n",
    "SP2020d = SP2020d['  StdCnt'].astype(str).astype(int)\n",
    "FA2021d = FA2021d['  StdCnt'].astype(str).astype(int)\n",
    "SP2021d = SP2021d['  StdCnt'].astype(str).astype(int)\n",
    "FA2022d = FA2022d['  StdCnt'].astype(str).astype(int)\n",
    "SP2022d = SP2022d['  StdCnt'].astype(str).astype(int)\n",
    "\n"
   ]
  },
  {
   "cell_type": "code",
   "execution_count": 219,
   "id": "305e0f2a",
   "metadata": {},
   "outputs": [],
   "source": [
    "#Create dataframes for the transpose\n",
    "FA2017d = pd.DataFrame(FA2017d)\n",
    "SP2017d = pd.DataFrame(SP2017d)\n",
    "FA2018d = pd.DataFrame(FA2018d)\n",
    "SP2018d = pd.DataFrame(SP2018d)\n",
    "FA2019d = pd.DataFrame(FA2019d)\n",
    "FA2019d = pd.DataFrame(FA2019d)\n",
    "FA2020d = pd.DataFrame(FA2020d)\n",
    "SP2020d = pd.DataFrame(SP2020d)\n",
    "FA2021d = pd.DataFrame(FA2021d)\n",
    "SP2021d = pd.DataFrame(SP2021d)\n",
    "FA2022d = pd.DataFrame(FA2022d)\n",
    "SP2022d = pd.DataFrame(SP2022d)"
   ]
  },
  {
   "cell_type": "code",
   "execution_count": 220,
   "id": "c7cdc47e",
   "metadata": {},
   "outputs": [],
   "source": [
    "#transpose rows to columns:t=transpose\n",
    "dt2017 = FA2017d.T\n",
    "SP2017dt = SP2017d.T\n",
    "dt2018 = FA2018d.T\n",
    "SP2018dt = SP2018d.T\n",
    "dt2019 = FA2019d.T\n",
    "SP2019dt = SP2019d.T\n",
    "dt2020 = FA2020d.T\n",
    "SP2020dt = SP2020d.T\n",
    "dt2021 = FA2021d.T\n",
    "SP2021dt = SP2021d.T\n",
    "dt2022 = FA2022d.T\n",
    "SP2022dt = SP2022d.T"
   ]
  },
  {
   "cell_type": "code",
   "execution_count": null,
   "id": "ddb67d4e",
   "metadata": {},
   "outputs": [],
   "source": []
  },
  {
   "cell_type": "code",
   "execution_count": 221,
   "id": "f5e4837b",
   "metadata": {},
   "outputs": [],
   "source": [
    "#add 'y' column\n",
    "dt2017['AUT-052-5006']=SP2018dt['AUT-052-5006']\n",
    "dt2018['AUT-052-5006']=SP2019dt['AUT-052-5006']\n",
    "dt2019['AUT-052-5006']=SP2020dt['AUT-052-5006']\n",
    "dt2020['AUT-052-5006']=SP2021dt['AUT-052-5006']\n",
    "dt2021['AUT-052-5006']=SP2022dt['AUT-052-5006']\n",
    "#dt2022['AUT-052-5006']=SP2023dt['AUT-052-5006']"
   ]
  },
  {
   "cell_type": "code",
   "execution_count": null,
   "id": "b9002b85",
   "metadata": {},
   "outputs": [],
   "source": []
  },
  {
   "cell_type": "code",
   "execution_count": 222,
   "id": "dc03e8ea",
   "metadata": {},
   "outputs": [],
   "source": [
    "#combine datframes\n",
    "old_courses = pd.concat([dt2017, dt2018, dt2019, dt2020, dt2021])\n",
    "#old_courses['AUT-052-5006']"
   ]
  },
  {
   "cell_type": "code",
   "execution_count": 223,
   "id": "21affde7",
   "metadata": {},
   "outputs": [],
   "source": [
    "#Change NaN's (classes not offered) to zeros\n",
    "old_courses = old_courses.fillna(0)\n",
    "dt2021 = dt2021.fillna(0)\n",
    "#print(old_courses['AUT-052-5006'])\n",
    "#print(old_courses.info())"
   ]
  },
  {
   "cell_type": "code",
   "execution_count": 224,
   "id": "4b10aaf1",
   "metadata": {},
   "outputs": [],
   "source": [
    "Auto_program_list=['AUT-048','APT-041','AUT-051','AUT-050','AUT-080','AUT-053','AUT-052','AUT-059','AUT-081','AUT-076','AUT-082','AUT-083']\n",
    "test = old_courses.columns\n",
    "new_list=[]\n",
    "keep_list=Auto_program_list\n",
    "\n",
    "for i in range(len(test)):\n",
    "    k =test[i][0:7] # removes the section number\n",
    "    drop=0\n",
    "    for keep in (keep_list):\n",
    "        if k == keep:\n",
    "            drop = drop+1\n",
    "    if drop == 0:   # If the class number doesn't == to a class on the list drop it.\n",
    "        #print('dropping', test[i])\n",
    "        old_courses.drop(test[i], axis =1, inplace = True)\n"
   ]
  },
  {
   "cell_type": "code",
   "execution_count": 225,
   "id": "d5d12244",
   "metadata": {},
   "outputs": [
    {
     "data": {
      "text/html": [
       "<div>\n",
       "<style scoped>\n",
       "    .dataframe tbody tr th:only-of-type {\n",
       "        vertical-align: middle;\n",
       "    }\n",
       "\n",
       "    .dataframe tbody tr th {\n",
       "        vertical-align: top;\n",
       "    }\n",
       "\n",
       "    .dataframe thead th {\n",
       "        text-align: right;\n",
       "    }\n",
       "</style>\n",
       "<table border=\"1\" class=\"dataframe\">\n",
       "  <thead>\n",
       "    <tr style=\"text-align: right;\">\n",
       "      <th>Section Name</th>\n",
       "      <th>AUT-048-44133</th>\n",
       "      <th>AUT-050-1866</th>\n",
       "      <th>AUT-050-1867</th>\n",
       "      <th>AUT-051-1869</th>\n",
       "      <th>AUT-051-43640</th>\n",
       "      <th>AUT-059-1873</th>\n",
       "      <th>AUT-080-13656</th>\n",
       "      <th>AUT-081-1878</th>\n",
       "      <th>AUT-052-5006</th>\n",
       "      <th>AUT-048-1865</th>\n",
       "      <th>AUT-080-46375</th>\n",
       "      <th>APT-041-51489</th>\n",
       "      <th>APT-041-51490</th>\n",
       "      <th>APT-041-51491</th>\n",
       "      <th>APT-041-52335</th>\n",
       "      <th>APT-041-52336</th>\n",
       "      <th>AUT-051-52059</th>\n",
       "      <th>AUT-059-52061</th>\n",
       "      <th>AUT-080-52026</th>\n",
       "      <th>AUT-081-52062</th>\n",
       "    </tr>\n",
       "  </thead>\n",
       "  <tbody>\n",
       "    <tr>\n",
       "      <th>StdCnt</th>\n",
       "      <td>10</td>\n",
       "      <td>8</td>\n",
       "      <td>6.0</td>\n",
       "      <td>7.0</td>\n",
       "      <td>3.0</td>\n",
       "      <td>5.0</td>\n",
       "      <td>7.0</td>\n",
       "      <td>5.0</td>\n",
       "      <td>10</td>\n",
       "      <td>0.0</td>\n",
       "      <td>0.0</td>\n",
       "      <td>0.0</td>\n",
       "      <td>0.0</td>\n",
       "      <td>0.0</td>\n",
       "      <td>0.0</td>\n",
       "      <td>0.0</td>\n",
       "      <td>0.0</td>\n",
       "      <td>0.0</td>\n",
       "      <td>0.0</td>\n",
       "      <td>0.0</td>\n",
       "    </tr>\n",
       "    <tr>\n",
       "      <th>StdCnt</th>\n",
       "      <td>8</td>\n",
       "      <td>8</td>\n",
       "      <td>6.0</td>\n",
       "      <td>7.0</td>\n",
       "      <td>5.0</td>\n",
       "      <td>8.0</td>\n",
       "      <td>5.0</td>\n",
       "      <td>8.0</td>\n",
       "      <td>9</td>\n",
       "      <td>5.0</td>\n",
       "      <td>2.0</td>\n",
       "      <td>0.0</td>\n",
       "      <td>0.0</td>\n",
       "      <td>0.0</td>\n",
       "      <td>0.0</td>\n",
       "      <td>0.0</td>\n",
       "      <td>0.0</td>\n",
       "      <td>0.0</td>\n",
       "      <td>0.0</td>\n",
       "      <td>0.0</td>\n",
       "    </tr>\n",
       "    <tr>\n",
       "      <th>StdCnt</th>\n",
       "      <td>7</td>\n",
       "      <td>14</td>\n",
       "      <td>0.0</td>\n",
       "      <td>9.0</td>\n",
       "      <td>0.0</td>\n",
       "      <td>5.0</td>\n",
       "      <td>0.0</td>\n",
       "      <td>5.0</td>\n",
       "      <td>12</td>\n",
       "      <td>0.0</td>\n",
       "      <td>4.0</td>\n",
       "      <td>0.0</td>\n",
       "      <td>0.0</td>\n",
       "      <td>0.0</td>\n",
       "      <td>0.0</td>\n",
       "      <td>0.0</td>\n",
       "      <td>0.0</td>\n",
       "      <td>0.0</td>\n",
       "      <td>0.0</td>\n",
       "      <td>0.0</td>\n",
       "    </tr>\n",
       "    <tr>\n",
       "      <th>StdCnt</th>\n",
       "      <td>5</td>\n",
       "      <td>7</td>\n",
       "      <td>0.0</td>\n",
       "      <td>7.0</td>\n",
       "      <td>0.0</td>\n",
       "      <td>7.0</td>\n",
       "      <td>8.0</td>\n",
       "      <td>7.0</td>\n",
       "      <td>7</td>\n",
       "      <td>0.0</td>\n",
       "      <td>0.0</td>\n",
       "      <td>0.0</td>\n",
       "      <td>0.0</td>\n",
       "      <td>0.0</td>\n",
       "      <td>0.0</td>\n",
       "      <td>0.0</td>\n",
       "      <td>0.0</td>\n",
       "      <td>0.0</td>\n",
       "      <td>0.0</td>\n",
       "      <td>0.0</td>\n",
       "    </tr>\n",
       "    <tr>\n",
       "      <th>StdCnt</th>\n",
       "      <td>13</td>\n",
       "      <td>11</td>\n",
       "      <td>0.0</td>\n",
       "      <td>0.0</td>\n",
       "      <td>0.0</td>\n",
       "      <td>0.0</td>\n",
       "      <td>0.0</td>\n",
       "      <td>0.0</td>\n",
       "      <td>7</td>\n",
       "      <td>0.0</td>\n",
       "      <td>0.0</td>\n",
       "      <td>14.0</td>\n",
       "      <td>16.0</td>\n",
       "      <td>8.0</td>\n",
       "      <td>9.0</td>\n",
       "      <td>8.0</td>\n",
       "      <td>12.0</td>\n",
       "      <td>5.0</td>\n",
       "      <td>11.0</td>\n",
       "      <td>5.0</td>\n",
       "    </tr>\n",
       "  </tbody>\n",
       "</table>\n",
       "</div>"
      ],
      "text/plain": [
       "Section Name  AUT-048-44133  AUT-050-1866  AUT-050-1867  AUT-051-1869  \\\n",
       "  StdCnt                 10             8           6.0           7.0   \n",
       "  StdCnt                  8             8           6.0           7.0   \n",
       "  StdCnt                  7            14           0.0           9.0   \n",
       "  StdCnt                  5             7           0.0           7.0   \n",
       "  StdCnt                 13            11           0.0           0.0   \n",
       "\n",
       "Section Name  AUT-051-43640  AUT-059-1873  AUT-080-13656  AUT-081-1878  \\\n",
       "  StdCnt                3.0           5.0            7.0           5.0   \n",
       "  StdCnt                5.0           8.0            5.0           8.0   \n",
       "  StdCnt                0.0           5.0            0.0           5.0   \n",
       "  StdCnt                0.0           7.0            8.0           7.0   \n",
       "  StdCnt                0.0           0.0            0.0           0.0   \n",
       "\n",
       "Section Name  AUT-052-5006  AUT-048-1865  AUT-080-46375  APT-041-51489  \\\n",
       "  StdCnt                10           0.0            0.0            0.0   \n",
       "  StdCnt                 9           5.0            2.0            0.0   \n",
       "  StdCnt                12           0.0            4.0            0.0   \n",
       "  StdCnt                 7           0.0            0.0            0.0   \n",
       "  StdCnt                 7           0.0            0.0           14.0   \n",
       "\n",
       "Section Name  APT-041-51490  APT-041-51491  APT-041-52335  APT-041-52336  \\\n",
       "  StdCnt                0.0            0.0            0.0            0.0   \n",
       "  StdCnt                0.0            0.0            0.0            0.0   \n",
       "  StdCnt                0.0            0.0            0.0            0.0   \n",
       "  StdCnt                0.0            0.0            0.0            0.0   \n",
       "  StdCnt               16.0            8.0            9.0            8.0   \n",
       "\n",
       "Section Name  AUT-051-52059  AUT-059-52061  AUT-080-52026  AUT-081-52062  \n",
       "  StdCnt                0.0            0.0            0.0            0.0  \n",
       "  StdCnt                0.0            0.0            0.0            0.0  \n",
       "  StdCnt                0.0            0.0            0.0            0.0  \n",
       "  StdCnt                0.0            0.0            0.0            0.0  \n",
       "  StdCnt               12.0            5.0           11.0            5.0  "
      ]
     },
     "execution_count": 225,
     "metadata": {},
     "output_type": "execute_result"
    }
   ],
   "source": [
    "old_courses"
   ]
  },
  {
   "cell_type": "code",
   "execution_count": 226,
   "id": "bf047f22",
   "metadata": {},
   "outputs": [],
   "source": [
    "model_stats = pd.DataFrame()\n",
    "df1=pd.DataFrame()"
   ]
  },
  {
   "cell_type": "code",
   "execution_count": 254,
   "id": "1fb8daec",
   "metadata": {},
   "outputs": [],
   "source": [
    "#Create train and test datasets\n",
    "X = old_courses.drop(['AUT-052-5006'],axis =1)\n",
    "y = old_courses['AUT-052-5006']\n",
    "X_train,  X_test, y_train, y_test = train_test_split(X,y, test_size = .125)\n",
    "#print(X.shape,y.shape )\n",
    "#print(X_train.shape,y_train.shape )\n",
    "#print(X_test )"
   ]
  },
  {
   "cell_type": "code",
   "execution_count": 255,
   "id": "94986b96",
   "metadata": {},
   "outputs": [
    {
     "data": {
      "text/plain": [
       "Section Name\n",
       "AUT-052-5006     1.000000e+00\n",
       "AUT-080-46375    7.905694e-01\n",
       "AUT-051-1869     6.804138e-01\n",
       "AUT-050-1866     5.726941e-01\n",
       "AUT-059-1873     2.294157e-01\n",
       "AUT-081-1878     2.294157e-01\n",
       "AUT-050-1867     2.151657e-01\n",
       "AUT-051-43640    1.535738e-01\n",
       "AUT-048-1865     4.681111e-17\n",
       "AUT-048-44133   -1.932245e-01\n",
       "AUT-080-13656   -2.785430e-01\n",
       "APT-041-51489   -5.270463e-01\n",
       "APT-041-51490   -5.270463e-01\n",
       "APT-041-51491   -5.270463e-01\n",
       "APT-041-52335   -5.270463e-01\n",
       "APT-041-52336   -5.270463e-01\n",
       "AUT-051-52059   -5.270463e-01\n",
       "AUT-059-52061   -5.270463e-01\n",
       "AUT-080-52026   -5.270463e-01\n",
       "AUT-081-52062   -5.270463e-01\n",
       "Name: AUT-052-5006, dtype: float64"
      ]
     },
     "execution_count": 255,
     "metadata": {},
     "output_type": "execute_result"
    }
   ],
   "source": [
    "# check for corrilations\n",
    "corr=old_courses.corr()\n",
    "(corr['AUT-052-5006']).sort_values(ascending=False)"
   ]
  },
  {
   "cell_type": "code",
   "execution_count": 256,
   "id": "c5e1da21",
   "metadata": {},
   "outputs": [
    {
     "name": "stdout",
     "output_type": "stream",
     "text": [
      "train_mse= 2.3665827156630354e-30\n",
      "test_mse= 12.356754219645175\n",
      "Actual= 7 predicted = 10.515217520957298\n"
     ]
    }
   ],
   "source": [
    "lr = LinearRegression().fit(X_train, y_train)\n",
    "train_mse = mean_squared_error(y_train, lr.predict(X_train))\n",
    "test_mse = mean_squared_error(y_test, lr.predict(X_test)) \n",
    "print('train_mse=',train_mse)\n",
    "print('test_mse=',test_mse)\n",
    "\n",
    "print('Actual=', y_test[0], 'predicted =',lr.predict(X_test)[0])\n",
    "df1['Model']=['Linear Regression']\n",
    "df1['Actual']= [y_test[0]]\n",
    "df1['Predicted']= [lr.predict(X_test)[0]]\n",
    "\n",
    "model_stats=model_stats.append(df1)"
   ]
  },
  {
   "cell_type": "code",
   "execution_count": 257,
   "id": "b18d5f3b",
   "metadata": {},
   "outputs": [
    {
     "name": "stdout",
     "output_type": "stream",
     "text": [
      "AUT-050-1866: 0.800 +/- 0.390\n"
     ]
    }
   ],
   "source": [
    "pipe = Pipeline([('features', PolynomialFeatures(degree = 3)), ('model', LinearRegression())])\n",
    "pipe.fit(X, y)\n",
    "\n",
    "\n",
    "r = permutation_importance(pipe, X, y, n_repeats=30, random_state=0)\n",
    "for i in r.importances_mean.argsort()[::-1]:\n",
    "     if r.importances_mean[i] - 2 * r.importances_std[i] > 0:\n",
    "        print(f\"{X.columns[i]:<8}: \"\n",
    "              f\"{r.importances_mean[i]:.3f}\"\n",
    "            f\" +/- {r.importances_std[i]:.3f}\")\n",
    "\n"
   ]
  },
  {
   "cell_type": "code",
   "execution_count": 258,
   "id": "647dfea2",
   "metadata": {},
   "outputs": [
    {
     "name": "stdout",
     "output_type": "stream",
     "text": [
      "train_mse= 5.5220263365470826e-30\n",
      "test_mse= 3.1554436208840472e-30\n",
      "Actual= 7 predicted = 7.000000000000002\n"
     ]
    }
   ],
   "source": [
    "train_mse = mean_squared_error(y_train, pipe.predict(X_train))\n",
    "test_mse = mean_squared_error(y_test, pipe.predict(X_test))         \n",
    "print('train_mse=',train_mse)\n",
    "print('test_mse=',test_mse)\n",
    "print('Actual=', y_test[0], 'predicted =',pipe.predict(X_test)[0])\n",
    "\n",
    "df1['Model']=['Pipeline']\n",
    "df1['Actual']= [y_test[0]]\n",
    "df1['Predicted']= [pipe.predict(X_test)[0]]\n",
    "\n",
    "model_stats=model_stats.append(df1)"
   ]
  },
  {
   "cell_type": "code",
   "execution_count": 259,
   "id": "a73ae408",
   "metadata": {},
   "outputs": [
    {
     "data": {
      "text/html": [
       "<div>\n",
       "<style scoped>\n",
       "    .dataframe tbody tr th:only-of-type {\n",
       "        vertical-align: middle;\n",
       "    }\n",
       "\n",
       "    .dataframe tbody tr th {\n",
       "        vertical-align: top;\n",
       "    }\n",
       "\n",
       "    .dataframe thead th {\n",
       "        text-align: right;\n",
       "    }\n",
       "</style>\n",
       "<table border=\"1\" class=\"dataframe\">\n",
       "  <thead>\n",
       "    <tr style=\"text-align: right;\">\n",
       "      <th></th>\n",
       "      <th>Model</th>\n",
       "      <th>Actual</th>\n",
       "      <th>Predicted</th>\n",
       "    </tr>\n",
       "  </thead>\n",
       "  <tbody>\n",
       "    <tr>\n",
       "      <th>0</th>\n",
       "      <td>Linear Regression</td>\n",
       "      <td>10</td>\n",
       "      <td>8.289688</td>\n",
       "    </tr>\n",
       "    <tr>\n",
       "      <th>0</th>\n",
       "      <td>Pipeline</td>\n",
       "      <td>10</td>\n",
       "      <td>10.000000</td>\n",
       "    </tr>\n",
       "    <tr>\n",
       "      <th>0</th>\n",
       "      <td>Linear Regression</td>\n",
       "      <td>9</td>\n",
       "      <td>10.053312</td>\n",
       "    </tr>\n",
       "    <tr>\n",
       "      <th>0</th>\n",
       "      <td>Pipeline</td>\n",
       "      <td>9</td>\n",
       "      <td>9.000000</td>\n",
       "    </tr>\n",
       "    <tr>\n",
       "      <th>0</th>\n",
       "      <td>Linear Regression</td>\n",
       "      <td>12</td>\n",
       "      <td>7.857548</td>\n",
       "    </tr>\n",
       "    <tr>\n",
       "      <th>0</th>\n",
       "      <td>Pipeline</td>\n",
       "      <td>12</td>\n",
       "      <td>12.000000</td>\n",
       "    </tr>\n",
       "    <tr>\n",
       "      <th>0</th>\n",
       "      <td>Linear Regression</td>\n",
       "      <td>10</td>\n",
       "      <td>8.289688</td>\n",
       "    </tr>\n",
       "    <tr>\n",
       "      <th>0</th>\n",
       "      <td>Pipeline</td>\n",
       "      <td>10</td>\n",
       "      <td>10.000000</td>\n",
       "    </tr>\n",
       "    <tr>\n",
       "      <th>0</th>\n",
       "      <td>Linear Regression</td>\n",
       "      <td>7</td>\n",
       "      <td>10.515218</td>\n",
       "    </tr>\n",
       "    <tr>\n",
       "      <th>0</th>\n",
       "      <td>Pipeline</td>\n",
       "      <td>7</td>\n",
       "      <td>7.000000</td>\n",
       "    </tr>\n",
       "  </tbody>\n",
       "</table>\n",
       "</div>"
      ],
      "text/plain": [
       "               Model  Actual  Predicted\n",
       "0  Linear Regression      10   8.289688\n",
       "0           Pipeline      10  10.000000\n",
       "0  Linear Regression       9  10.053312\n",
       "0           Pipeline       9   9.000000\n",
       "0  Linear Regression      12   7.857548\n",
       "0           Pipeline      12  12.000000\n",
       "0  Linear Regression      10   8.289688\n",
       "0           Pipeline      10  10.000000\n",
       "0  Linear Regression       7  10.515218\n",
       "0           Pipeline       7   7.000000"
      ]
     },
     "execution_count": 259,
     "metadata": {},
     "output_type": "execute_result"
    }
   ],
   "source": [
    "model_stats"
   ]
  },
  {
   "cell_type": "code",
   "execution_count": 260,
   "id": "f63e9741",
   "metadata": {},
   "outputs": [
    {
     "data": {
      "text/plain": [
       "<AxesSubplot:xlabel='Actual', ylabel='Predicted'>"
      ]
     },
     "execution_count": 260,
     "metadata": {},
     "output_type": "execute_result"
    },
    {
     "data": {
      "image/png": "[encoded data removed]",
      "text/plain": [
       "<Figure size 432x288 with 1 Axes>"
      ]
     },
     "metadata": {},
     "output_type": "display_data"
    }
   ],
   "source": [
    "#The graph shows that the Pipeline model accuratly predicts the class size, e.g (7,7 - 9,9 - 10,10)\n",
    "#where the Linear regression alone is not accurate at all.(10,8.3 - 9,10 - 12,7.9)  \n",
    "sns.set(style='whitegrid')\n",
    "sns.scatterplot(x=\"Actual\", y=\"Predicted\",hue='Model', data=model_stats)"
   ]
  },
  {
   "cell_type": "code",
   "execution_count": null,
   "id": "e0920104",
   "metadata": {},
   "outputs": [],
   "source": []
  },
  {
   "cell_type": "code",
   "execution_count": null,
   "id": "d10260d2",
   "metadata": {},
   "outputs": [],
   "source": []
  }
 ],
 "metadata": {
  "kernelspec": {
   "display_name": "Python 3 (ipykernel)",
   "language": "python",
   "name": "python3"
  },
  "language_info": {
   "codemirror_mode": {
    "name": "ipython",
    "version": 3
   },
   "file_extension": ".py",
   "mimetype": "text/x-python",
   "name": "python",
   "nbconvert_exporter": "python",
   "pygments_lexer": "ipython3",
   "version": "3.9.7"
  }
 },
 "nbformat": 4,
 "nbformat_minor": 5
}
